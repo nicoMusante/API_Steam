{
 "cells": [
  {
   "cell_type": "code",
   "execution_count": 1,
   "metadata": {},
   "outputs": [],
   "source": [
    "import pandas as pd"
   ]
  },
  {
   "cell_type": "markdown",
   "metadata": {},
   "source": [
    "Para este Analasis Exploratorio de Datos contaremos con los datos completos luego de haber realizado el merge de los 3 dataframes presentes en el ETL (games_and_reviews.csv) y también con el dataframe acotado a 3000 filas que se utilizó para el deploy de la api a travez de render.com (games_and_reviews_sample.csv) "
   ]
  },
  {
   "cell_type": "code",
   "execution_count": 2,
   "metadata": {},
   "outputs": [],
   "source": [
    "data_completa=pd.read_csv(\"../Dataset_ETL/games_and_reviews.csv\")\n",
    "data_acotada=pd.read_csv(\"../games_and_reviews_sample.csv\")"
   ]
  },
  {
   "cell_type": "markdown",
   "metadata": {},
   "source": [
    "ANALISIS DE GENEROS:"
   ]
  },
  {
   "cell_type": "code",
   "execution_count": 3,
   "metadata": {},
   "outputs": [
    {
     "name": "stdout",
     "output_type": "stream",
     "text": [
      "Juegos de Action: 4134460\n",
      "Juegos de Casual: 861899\n",
      "Juegos de Indie: 2895461\n",
      "Juegos de Simulation: 827819\n",
      "Juegos de Strategy: 1225374\n",
      "Juegos de Free to Play: 1077905\n",
      "Juegos de RPG: 1334716\n",
      "Juegos de Sports: 171162\n",
      "Juegos de Adventure: 1850110\n",
      "Juegos de Racing: 167502\n",
      "Juegos de Early Access: 196217\n",
      "Juegos de Massively Multiplayer: 496677\n",
      "Juegos de Animation &amp; Modeling: 15315\n",
      "Juegos de Video Production: 10021\n",
      "Juegos de Utilities: 19470\n",
      "Juegos de Web Publishing: 7596\n",
      "Juegos de Education: 6781\n",
      "Juegos de Software Training: 5106\n",
      "Juegos de Design &amp; Illustration: 18047\n",
      "Juegos de Audio Production: 1802\n",
      "Juegos de Photo Editing: 1326\n",
      "Juegos de Accounting: 0\n"
     ]
    }
   ],
   "source": [
    "#contamos la cantidad de juegos por género para el dataframe completo\n",
    "generos = [\"Action\",\t\"Casual\", \"Indie\",\t\"Simulation\", \"Strategy\", \"Free to Play\", \"RPG\", \"Sports\", \"Adventure\", \"Racing\",\"Early Access\", \"Massively Multiplayer\", \"Animation &amp; Modeling\", \"Video Production\", \"Utilities\", \"Web Publishing\", \"Education\", \"Software Training\", \"Design &amp; Illustration\", \"Audio Production\", \"Photo Editing\", \"Accounting\"]\n",
    "for genero in generos:\n",
    "    print(f\"Juegos de {genero}: {data_completa[genero].sum()}\")\n"
   ]
  },
  {
   "cell_type": "code",
   "execution_count": 4,
   "metadata": {},
   "outputs": [
    {
     "name": "stdout",
     "output_type": "stream",
     "text": [
      "Juegos de Action: 1945\n",
      "Juegos de Casual: 474\n",
      "Juegos de Indie: 1565\n",
      "Juegos de Simulation: 427\n",
      "Juegos de Strategy: 552\n",
      "Juegos de Free to Play: 768\n",
      "Juegos de RPG: 583\n",
      "Juegos de Sports: 93\n",
      "Juegos de Adventure: 770\n",
      "Juegos de Racing: 65\n",
      "Juegos de Early Access: 100\n",
      "Juegos de Massively Multiplayer: 270\n",
      "Juegos de Animation &amp; Modeling: 9\n",
      "Juegos de Video Production: 6\n",
      "Juegos de Utilities: 11\n",
      "Juegos de Web Publishing: 6\n",
      "Juegos de Education: 2\n",
      "Juegos de Software Training: 2\n",
      "Juegos de Design &amp; Illustration: 13\n",
      "Juegos de Audio Production: 0\n",
      "Juegos de Photo Editing: 0\n",
      "Juegos de Accounting: 0\n"
     ]
    }
   ],
   "source": [
    "#contamos la cantidad de juegos por género para el dataframe acotado\n",
    "generos = [\"Action\", \"Casual\", \"Indie\",\t\"Simulation\", \"Strategy\", \"Free to Play\", \"RPG\", \"Sports\", \"Adventure\", \"Racing\",\"Early Access\", \"Massively Multiplayer\", \"Animation &amp; Modeling\", \"Video Production\", \"Utilities\", \"Web Publishing\", \"Education\", \"Software Training\", \"Design &amp; Illustration\", \"Audio Production\", \"Photo Editing\", \"Accounting\"]\n",
    "for genero in generos:\n",
    "    print(f\"Juegos de {genero}: {data_acotada[genero].sum()}\")"
   ]
  },
  {
   "cell_type": "markdown",
   "metadata": {},
   "source": [
    "TIEMPO PROMEDIO POR GÉNERO:"
   ]
  },
  {
   "cell_type": "code",
   "execution_count": 5,
   "metadata": {},
   "outputs": [
    {
     "name": "stdout",
     "output_type": "stream",
     "text": [
      "Tiempo de juego promedio para Action: 996.2758411013772 horas\n",
      "Tiempo de juego promedio para Casual: 423.7011447977083 horas\n",
      "Tiempo de juego promedio para Indie: 759.2100415097975 horas\n",
      "Tiempo de juego promedio para Simulation: 1590.8977578432 horas\n",
      "Tiempo de juego promedio para Strategy: 705.9311908037872 horas\n",
      "Tiempo de juego promedio para Free to Play: 730.9808591666241 horas\n",
      "Tiempo de juego promedio para RPG: 1021.5883536272885 horas\n",
      "Tiempo de juego promedio para Sports: 474.62772110632034 horas\n",
      "Tiempo de juego promedio para Adventure: 694.489189831956 horas\n",
      "Tiempo de juego promedio para Racing: 457.6409416006973 horas\n",
      "Tiempo de juego promedio para Early Access: 1163.3715885983377 horas\n",
      "Tiempo de juego promedio para Massively Multiplayer: 1170.9819742005368 horas\n",
      "Tiempo de juego promedio para Animation &amp; Modeling: 241.973555337904 horas\n",
      "Tiempo de juego promedio para Video Production: 538.38159864285 horas\n",
      "Tiempo de juego promedio para Utilities: 480.89630200308164 horas\n",
      "Tiempo de juego promedio para Web Publishing: 953.9033701948393 horas\n",
      "Tiempo de juego promedio para Education: 182.60315587671434 horas\n",
      "Tiempo de juego promedio para Software Training: 381.45319232275756 horas\n",
      "Tiempo de juego promedio para Design &amp; Illustration: 490.2600432204799 horas\n",
      "Tiempo de juego promedio para Audio Production: 988.8690344062153 horas\n",
      "Tiempo de juego promedio para Photo Editing: 86.03619909502262 horas\n",
      "Tiempo de juego promedio para Accounting: nan horas\n"
     ]
    }
   ],
   "source": [
    "#calculamos el tiempo promedio de juego por género para el dataframe completo\n",
    "for genero in generos:\n",
    "    print(f\"Tiempo de juego promedio para {genero}: {data_completa[data_completa[genero] == 1]['playtime_forever'].mean()} horas\")"
   ]
  },
  {
   "cell_type": "code",
   "execution_count": 8,
   "metadata": {},
   "outputs": [
    {
     "name": "stdout",
     "output_type": "stream",
     "text": [
      "Tiempo de juego promedio para Action: 36.907969151670954 horas\n",
      "Tiempo de juego promedio para Casual: 34.075949367088604 horas\n",
      "Tiempo de juego promedio para Indie: 37.08626198083067 horas\n",
      "Tiempo de juego promedio para Simulation: 34.63466042154567 horas\n",
      "Tiempo de juego promedio para Strategy: 33.742753623188406 horas\n",
      "Tiempo de juego promedio para Free to Play: 29.3125 horas\n",
      "Tiempo de juego promedio para RPG: 36.60377358490566 horas\n",
      "Tiempo de juego promedio para Sports: 38.32258064516129 horas\n",
      "Tiempo de juego promedio para Adventure: 37.58831168831169 horas\n",
      "Tiempo de juego promedio para Racing: 41.03076923076923 horas\n",
      "Tiempo de juego promedio para Early Access: 37.03 horas\n",
      "Tiempo de juego promedio para Massively Multiplayer: 30.71851851851852 horas\n",
      "Tiempo de juego promedio para Animation &amp; Modeling: 21.333333333333332 horas\n",
      "Tiempo de juego promedio para Video Production: 13.0 horas\n",
      "Tiempo de juego promedio para Utilities: 11.181818181818182 horas\n",
      "Tiempo de juego promedio para Web Publishing: 49.5 horas\n",
      "Tiempo de juego promedio para Education: 27.0 horas\n",
      "Tiempo de juego promedio para Software Training: 27.0 horas\n",
      "Tiempo de juego promedio para Design &amp; Illustration: 25.46153846153846 horas\n",
      "Tiempo de juego promedio para Audio Production: nan horas\n",
      "Tiempo de juego promedio para Photo Editing: nan horas\n",
      "Tiempo de juego promedio para Accounting: nan horas\n"
     ]
    }
   ],
   "source": [
    "#calculamos el tiempo promedio de juego por género para el dataframe acotado\n",
    "for genero in generos:\n",
    "    print(f\"Tiempo de juego promedio para {genero}: {data_acotada[data_acotada[genero] == 1]['playtime_forever'].mean()} horas\")"
   ]
  },
  {
   "cell_type": "markdown",
   "metadata": {},
   "source": [
    "JUEGOS RECOMENDADOS:"
   ]
  },
  {
   "cell_type": "code",
   "execution_count": 9,
   "metadata": {},
   "outputs": [
    {
     "name": "stdout",
     "output_type": "stream",
     "text": [
      "Porcentaje de juegos recomendados: 87.14497774310142%\n"
     ]
    }
   ],
   "source": [
    "#proporción de juegos recomendados para el dataframe completo\n",
    "recomendados = data_completa['recommend'].value_counts(normalize=True)\n",
    "print(f\"Porcentaje de juegos recomendados: {recomendados[True] * 100}%\")\n"
   ]
  },
  {
   "cell_type": "code",
   "execution_count": 10,
   "metadata": {},
   "outputs": [
    {
     "name": "stdout",
     "output_type": "stream",
     "text": [
      "Porcentaje de juegos recomendados: 87.26666666666667%\n"
     ]
    }
   ],
   "source": [
    "#proporción de juegos recomendados para el dataframe acotado\n",
    "recomendados = data_acotada['recommend'].value_counts(normalize=True)\n",
    "print(f\"Porcentaje de juegos recomendados: {recomendados[True] * 100}%\")"
   ]
  },
  {
   "cell_type": "markdown",
   "metadata": {},
   "source": [
    "ANÁLISIS DE SENTIMIENTOS:"
   ]
  },
  {
   "cell_type": "code",
   "execution_count": 11,
   "metadata": {},
   "outputs": [
    {
     "name": "stdout",
     "output_type": "stream",
     "text": [
      "count    6.380269e+06\n",
      "mean     1.650559e+00\n",
      "std      7.591455e-01\n",
      "min      0.000000e+00\n",
      "25%      2.000000e+00\n",
      "50%      2.000000e+00\n",
      "75%      2.000000e+00\n",
      "max      2.000000e+00\n",
      "Name: sentiment_score, dtype: float64\n"
     ]
    }
   ],
   "source": [
    "#estadísticas del puntaje de sentimiento para el dataframe completo\n",
    "print(data_completa['sentiment_score'].describe())"
   ]
  },
  {
   "cell_type": "code",
   "execution_count": 13,
   "metadata": {},
   "outputs": [
    {
     "name": "stdout",
     "output_type": "stream",
     "text": [
      "count    3000.000000\n",
      "mean        1.656667\n",
      "std         0.753864\n",
      "min         0.000000\n",
      "25%         2.000000\n",
      "50%         2.000000\n",
      "75%         2.000000\n",
      "max         2.000000\n",
      "Name: sentiment_score, dtype: float64\n"
     ]
    }
   ],
   "source": [
    "#estadísticas del puntaje de sentimiento para el dataframe acotado\n",
    "print(data_acotada['sentiment_score'].describe())"
   ]
  },
  {
   "cell_type": "markdown",
   "metadata": {},
   "source": [
    "ANÁLISIS TEMPORAL:"
   ]
  },
  {
   "cell_type": "code",
   "execution_count": 14,
   "metadata": {},
   "outputs": [
    {
     "name": "stdout",
     "output_type": "stream",
     "text": [
      "posted_year\n",
      "2010      24258\n",
      "2011     124262\n",
      "2012     211142\n",
      "2013     796781\n",
      "2014    3327291\n",
      "2015    1896535\n",
      "Name: count, dtype: int64\n"
     ]
    }
   ],
   "source": [
    "#juegos publicados por año para el dataframe completo\n",
    "print(data_completa['posted_year'].value_counts().sort_index())"
   ]
  },
  {
   "cell_type": "code",
   "execution_count": 15,
   "metadata": {},
   "outputs": [
    {
     "name": "stdout",
     "output_type": "stream",
     "text": [
      "posted_year\n",
      "2010       4\n",
      "2011      52\n",
      "2012      94\n",
      "2013     348\n",
      "2014    1605\n",
      "2015     897\n",
      "Name: count, dtype: int64\n"
     ]
    }
   ],
   "source": [
    "#juegos publicados por año para el dataframe acotado\n",
    "print(data_acotada['posted_year'].value_counts().sort_index())"
   ]
  }
 ],
 "metadata": {
  "kernelspec": {
   "display_name": "Python 3",
   "language": "python",
   "name": "python3"
  },
  "language_info": {
   "codemirror_mode": {
    "name": "ipython",
    "version": 3
   },
   "file_extension": ".py",
   "mimetype": "text/x-python",
   "name": "python",
   "nbconvert_exporter": "python",
   "pygments_lexer": "ipython3",
   "version": "3.11.7"
  }
 },
 "nbformat": 4,
 "nbformat_minor": 2
}
